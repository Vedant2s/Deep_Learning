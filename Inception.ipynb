{
  "cells": [
    {
      "cell_type": "markdown",
      "metadata": {
        "id": "oCGhA7Jpt1qg"
      },
      "source": [
        "# Inception"
      ]
    },
    {
      "cell_type": "markdown",
      "metadata": {
        "id": "3cLWGAmft1qi"
      },
      "source": [
        "Also known as GoogLeNet , it is a 22-layer network that won the 2014 ILSVRC Championship.\n",
        "\n",
        "1. The original intention of the design is to expand the width and depth on its basis .\n",
        "\n",
        "2. which is designed motives derived from improving the performance of the depth of the network generally can increase the size of the network and increase the size of the data set to increase, but at the same time cause the network parameters and easily fit through excessive , computing resources inefficient and The production of high-quality data sets is an expensive issue.\n",
        "\n",
        "3. Its design philosophy is to change the full connection to a sparse architecture and try to change it to a sparse architecture inside the convolution.\n",
        "\n",
        "4. The main idea is to design an inception module and increase the depth and width of the network by continuously copying these inception modules , but GooLeNet mainly extends these inception modules in depth.\n",
        "\n",
        "There are four parallel channels in each inception module , and concat is performed at the end of the channel .\n",
        "\n",
        "1x1 conv is mainly used to reduce the dimensions in the article to avoid calculation bottlenecks.\n",
        "It also adds additional softmax loss to some branches of the previous network layer to avoid the problem of gradient disappearance.\n",
        "\n",
        "**Four parallel channels:**\n",
        "\n",
        "* 1x1 conv: Borrowed from [ Network in Network ], the input feature map can be reduced in dimension and upgraded without too much loss of the input spatial information;\n",
        "* 1x1conv followed by 3x3 conv: 3x3 conv increases the receptive field of the feature map, and changes the dimension through 1x1conv;\n",
        "* 1x1 conv followed by 5x5 conv: 5x5 conv further increases the receptive field of the feature map, and changes the dimensions through 1x1 conv;\n",
        "* 3x3 max pooling followed by 1x1 conv: The author believes that although the pooling layer will lose space information, it has been effectively applied in many fields, which proves its effectiveness, so a parallel channel is added, and it is changed by 1x1 conv Its output dimension.\n",
        "\n",
        "\n",
        "![inception](img/inception.png)\n",
        "\n",
        "#### Complete network design : -\n",
        "\n",
        "\n",
        "![inception](img/inceptionpic.jpg)"
      ]
    },
    {
      "cell_type": "markdown",
      "metadata": {
        "id": "CsklvJBLt1qj"
      },
      "source": [
        "Two ways to improve network performance:\n",
        "\n",
        "**The most direct way to improve the performance of deep neural networks is to increase their size . This includes depth, the number of levels, and their width, the size of each level unit .**\n",
        "\n",
        "Another easy and safe way is to **increase the size of the training data**.\n",
        "\n",
        "However, *both methods have two disadvantages* .\n",
        "\n",
        "Larger models mean more parameters, which makes it easier for the network to overfit , especially when the number of label samples in the training data set is limited.\n",
        "\n",
        "At the same time, because the production of high-quality training sets is tricky and expensive ,especially when some human experts do it , there is a large error rate . As shown below.\n",
        "\n",
        "![title](img/inceptionmis.png)\n",
        "\n",
        "\n",
        "*Another shortcoming is that uniformly increasing the size of the network will increase the use of computing resources* . For example, in a deep network, if two convolutions are chained, any unified improvement of their convolution kernels will cause demand for resources.\n",
        "\n",
        "Power increase: If the increased capacity is inefficient, for example, if most of the weights end with 0 , then a lot of computing resources are wasted. But because the computing resources are always limited, an effective computational distribution always tends to increase the size of the model indiscriminately, and even the main objective goal is to improve the performance of the results.\n",
        "\n",
        "The basic method to solve these two problems is to finally change the fully connected network to a sparse architecture, even inside the convolution.\n",
        "\n",
        "The details of the GooLeNet network layer are shown in the following table:\n",
        "\n",
        "![title](img/inceptionnetwork.png)\n",
        "\n",
        "**To sum up:**\n",
        "\n",
        "* 128 1x1 convolution kernels are used to reduce dimensions and modify linear activation units\n",
        "* A fully connected layer of 1024 units and a modified linear activation unit;\n",
        "* A dropout layer that drops neuron connections with a 70% probability;\n",
        "* A linear layer with softmax loss as classification\n",
        "Predict 1000 categories, but removed during the inference phase\n",
        "\n",
        "**Training Methodology**\n",
        "\n",
        ">The momentum is set to 0.9 and the learning rate is set to decrease by 4% every 8 epochs.\n",
        "\n",
        ">Seven models were trained . To make the problem more detailed, some models were trained on small crops, and some were trained on large crops .\n",
        "\n",
        ">The factors that make the model train well include : the sampling of patches of various sizes in the image , the size of which is evenly distributed between 8% and 100%, and the aspect ratio between 3/4 and 4/3.\n",
        "\n",
        "> **Illumination changes have an effect on avoiding overfitting.**\n",
        "\n",
        "> **Later, random interpolation is used to resize the image.**\n",
        "\n",
        "\n",
        "\n",
        "\n"
      ]
    },
    {
      "cell_type": "markdown",
      "metadata": {
        "id": "sOEjs1Tnt1qk"
      },
      "source": [
        "# Inception-v2(2015)\n",
        "\n",
        "\n",
        "This architecture is a landmark in the development of deep network models . The most prominent contribution is to propose a normalized Batch Normalization layer to unify the output range of the network. It is fixed in a relatively uniform range. If the BN layer is not added, the value range of the network input and output of each layer is greatly different, so the size of the learning rate will be different. The BN layer avoids this situation This accelerates the training of the network and gives the network regular terms to a certain extent , reducing the degree of overfitting of the network. In the subsequent development of network models, most models have more or less added BN layers to the model.\n",
        "\n",
        "In this paper, the BN layer is standardized before being input to the activation function. At the same time, VGG uses 2 3x3 convs instead of 5x5 convs in the inception module to reduce the amount of parameters and speed up the calculation.\n",
        "\n",
        "Algorithm advantages:\n",
        "1. **Improved learning rate** : In the BN model, a higher learning rate is used to accelerate training convergence, but it will not cause other effects. Because if the scale of each layer is different, then the learning rate required by each layer is different. The scale of the same layer dimension often also needs different learning rates. Usually, the minimum learning is required to ensure the loss function to decrease, but The BN layer keeps the scale of each layer and dimension consistent, so you can directly use a higher learning rate for optimization.\n",
        "\n",
        "\n",
        "2. **Remove the dropout layer** : The BN layer makes full use of the goals of the dropout layer. Remove the dropout layer from the BN-Inception model, but no overfitting will occur.\n",
        "\n",
        "\n",
        "3. **Decrease the attenuation coefficient of L2 weight** : Although the L2 loss controls the overfitting of the Inception model, the loss of weight has been reduced by five times in the BN-Inception model.\n",
        "\n",
        "\n",
        "4. **Accelerate the decay of the learning rate** : When training the Inception model, we let the learning rate decrease exponentially. Because our network is faster than Inception, we will increase the speed of reducing the learning rate by 6 times.\n",
        "\n",
        "\n",
        "5. **Remove the local response layer** : Although this layer has a certain role, but after the BN layer is added, this layer is not necessary.\n",
        "\n",
        "\n",
        "6. **Scramble training samples more thoroughly** : We scramble training samples, which can prevent the same samples from appearing in a mini-batch. This can improve the accuracy of the validation set by 1%, which is the advantage of the BN layer as a regular term. In our method, random selection is more effective when the model sees different samples each time.\n",
        "\n",
        "\n",
        "7. **To reduce image distortion**: Because BN network training is faster and observes each training sample less often, we want the model to see a more realistic image instead of a distorted image.\n"
      ]
    },
    {
      "cell_type": "markdown",
      "metadata": {
        "id": "TPFNKGfqt1qk"
      },
      "source": [
        "# Inception-v3-2015\n",
        "\n",
        "This architecture focuses, how to use the convolution kernel two or more smaller size of the convolution kernel to replace, but also the introduction of **asymmetrical layers i.e. a convolution dimensional convolution**\n",
        "has also been proposed for pooling layer Some remedies that can cause loss of spatial information;\n",
        "there are ideas such as **label-smoothing , BN-ahxiliary** .\n",
        "\n",
        "Experiments were performed on inputs with different resolutions . The results show that although low-resolution inputs require more time to train, the accuracy and high-resolution achieved are not much different.\n",
        "\n",
        "**The computational cost is reduced while improving the accuracy of the network.**\n",
        "\n",
        "**General Design Principles**\n",
        "\n",
        "We will describe some design principles that have been proposed through extensive experiments with different architectural designs for convolutional networks. At this point, full use of the following principles can be guessed, and some additional experiments in the future will be necessary to estimate their accuracy and effectiveness.\n",
        "\n",
        "1.  **Prevent bottlenecks in characterization** . The so-called bottleneck of feature description is that a large proportion of features are compressed in the middle layer (such as using a pooling operation). This operation will cause the loss of feature space information and the loss of features. Although the operation of pooling in CNN is important, there are some methods that can be used to avoid this loss as much as possible (I note: later hole convolution operations ).\n",
        "\n",
        "2.  **The higher the dimensionality of the feature, the faster the training converges** . That is, the independence of features has a great relationship with the speed of model convergence. The more independent features, the more thoroughly the input feature information is decomposed. It is easier to converge if the correlation is strong. Hebbin principle : fire together, wire together.\n",
        "\n",
        "3.  **Reduce the amount of calculation through dimensionality reduction** . In v1, the feature is first reduced by 1x1 convolutional dimensionality reduction. There is a certain correlation between different dimensions. Dimension reduction can be understood as a lossless or low-loss compression. Even if the dimensions are reduced, the correlation can still be used to restore its original information.\n",
        "\n",
        "4.  **Balance the depth and width of the network** . Only by increasing the depth and width of the network in the same proportion can the performance of the model be maximized.\n",
        "\n"
      ]
    },
    {
      "cell_type": "markdown",
      "metadata": {
        "id": "2AT1DTk9t1qk"
      },
      "source": [
        "**Factorizing Convolutions with Large Filter Size**\n",
        "\n",
        "GooLeNet uses many dimensionality reduction methods, which has achieved certain results. Consider the example of a 1x1 convolutional layer used to reduce dimensions before a 3x3 convolutional layer. In the network, we expect the network to be highly correlated between the output neighboring elements at the activation function. Therefore, we can reduce their activation values ​​before aggregation , which should generate similar local expression descriptions.\n",
        "\n",
        "This paper explores experiments to decompose the network layer into different factors under different settings in order to improve the computational efficiency of the method . Because the Inception network is fully convolutional, each weight value corresponds to a product operation each time it is activated.\n",
        "\n",
        "Therefore, any reduction in computational cost will result in a reduction in parameters. This means that we can use some suitable decomposition factors to reduce the parameters and thus speed up the training.\n",
        "\n",
        "3.1  **Factorizing Convolutions with Large Filter Size**\n",
        "\n",
        "With the same number of convolution kernels, larger convolution kernels (such as 5x5 or 7x7) are more expensive to calculate than 3x3 convolution kernels , which is about a multiple of 25/9 = 2.78. Of course, the 5x5 convolution kernel can obtain more correlations between the information and activation units in the previous network, but under the premise of huge consumption of computing resources, a physical reduction in the size of the convolution kernel still appears.\n",
        "\n",
        "However, we still want to know whether a 5x5 convolutional layer can be replaced by a multi-layer convolutional layer with fewer parameters when the input and output sizes are consistent . If we scale the calculation map of 5x5 convolution, we can see that each output is like a small fully connected network sliding on the input window with a size of 5x5. Refer to Figure 1.\n",
        "\n",
        "![title](img/5x.png)\n",
        "\n",
        "\n",
        "\n",
        "Therefore, we have developed a network that explores translation invariance and replaces one layer of convolution with two layers of convolution: the first layer is a 3x3 convolution layer and the second layer is a fully connected layer . Refer to Figure 1. We ended up replacing two 5x5 convolutional layers with two 3x3 convolutional layers. Refer to Figure 4 Figure 5. This operation can realize the weight sharing of neighboring layers. It is about (9 + 9) / 25 times reduction in computational consumption.\n",
        "\n",
        "![title](img/f1.png)\n",
        "![title](img/f2.png)\n",
        "\n",
        "\n",
        "**Spatial Factorization into Asymmetric Convolutions**\n",
        "\n",
        "We are wondering if the convolution kernel can be made smaller, such as 2x2, but there is an asymmetric method that can be better than this method. That is to use nx1 size convolution. For example, using the [3x1 + 1x3] convolution layer. In this case, a single 3x3 convolution has the same receptive field. Refer to Figure 3. This asymmetric method can save [((3x3)-(3 + 3)) / (3x3) = 33%] computing resources, and replacing two 2x2 only saves [11%] Computing resources.\n",
        "\n",
        "In theory, we can have a deeper discussion and use the convolution of [1xn + nx1] instead of the convolutional layer of nxn. Refer to Figure 6. But this situation is not very good in the previous layer, but it can perform better on a medium-sized feature map [mxm, m is between 12 and 20]. In this case, use [1x7 + 7x1] convolutional layer can get a very good result.\n",
        "\n",
        "\n",
        "**Utility of Auxiliary Classifiers**\n",
        "\n",
        "Inception-v1 introduced some auxiliary classifiers (referring to some branches of the previous layer adding the softmax layer to calculate the loss back propagation) to improve the aggregation problem in deep networks. The original motive is to pass the gradient back to the previous convolutional layer , so that they can effectively and improve the aggregation of features and avoid the problem of vanishing gradients.\n",
        "\n",
        "Traditionally, pooling layers are used in convolutional networks to reduce the size of feature maps . In order to avoid bottlenecks in the expression of spatial information, the number of convolution kernels in the network can be expanded before using max pooling or average pooling.\n",
        "\n",
        "For example, for a dxd network layer with K feature maps, to generate a network layer with 2K [d / 2 xd / 2] feature maps, we can use 2K convolution kernels with a step size of 1. Convolution and then add a pooling layer to get it, then this operation requires [2d 2 K 2 ]. But using pooling instead of convolution, the approximate operation is [2 * (d / 2) 2 xK 2 ], which reduces the operation by four times. However, this will cause a description bottleneck, because the feature map is reduced to [(d / 2) 2 xK], which will definitely cause the loss of spatial information on the network. Refer to Figure 9. However, we have adopted a different method to avoid this bottleneck, refer to Figure 10. That is, two parallel channels are used , one is a pooling layer (max or average), the step size is 2, and the other is a convolution layer , and then it is concatenated during output.\n",
        "\n",
        "![title](img/grid1.png)\n",
        "\n",
        "![title](img/grid2.png)\n",
        "\n",
        "\n",
        "\n",
        "\n"
      ]
    },
    {
      "cell_type": "markdown",
      "metadata": {
        "id": "3qocDZhGt1qt"
      },
      "source": [
        "### Inception-v4-2016\n",
        "After ResNet appeared, ResNet residual structure was added.\n",
        "\n",
        "It is based on Inception-v3 and added the skip connection structure in ResNet. Finally, under the structure of 3 residual and 1 inception-v4 , it reached the top-5 error 3.08% in CLS (ImageNet calssification) .\n",
        "\n",
        "1-Introduction\n",
        "Residual conn works well when training very deep networks. Because the Inception network architecture can be very deep, it is reasonable to use residual conn instead of concat.\n",
        "\n",
        "Compared with v3, Inception-v4 has more unified simplified structure and more inception modules.\n",
        "\n",
        "![title](img/v4.png)\n",
        "\n",
        "The big picture of Inception-v4:\n",
        "\n",
        "![title](img/b1.png)\n",
        "\n",
        "Fig9 is an overall picture, and Fig3,4,5,6,7,8 are all local structures. For the specific structure of each module, see the end of the article.\n",
        "\n",
        "### Residual Inception Blocks\n",
        "\n",
        "For the residual version in the Inception network, we use an Inception module that consumes less than the original Inception. The convolution kernel (followed by 1x1) of each Inception module is used to modify the dimension, which can compensate the reduction of the Inception dimension to some extent.\n",
        "\n",
        "\n",
        "One is named **Inception-ResNet-v1**, which is consistent with the calculation cost of Inception-v3.\n",
        "One is named **Inception-ResNet-v2**, which is consistent with the calculation cost of Inception-v4.\n",
        "\n",
        "Figure 15 shows the structure of both. However, Inception-v4 is actually slower in practice, probably because it has more layers.\n",
        "\n",
        "Another small technique is that we use the BN layer in the header of the traditional layer in the Inception-ResNet module, but not in the header of the summations. ** There is reason to believe that the BN layer is effective. But in order to add more Inception modules, we made a compromise between the two.\n",
        "\n",
        "Inception-ResNet-v1\n",
        "\n",
        "![title](img/res1in.png)\n",
        "\n",
        "Inception-ResNet-v2\n",
        "\n",
        "![title](img/res2in.png)\n",
        "\n",
        "**Scaling of the Residuals**\n",
        "\n",
        "This paper finds that when the number of convolution kernels exceeds 1,000 , the residual variants will start to show instability , and the network will die in the early stages of training, which means that the last layer before the average pooling layer is in the Very few iterations start with just a zero value . This situation cannot be prevented by reducing the learning rate or by adding a BN layer . Hekaiming's ResNet article also mentions this phenomenon.\n",
        "\n",
        "This article finds that scale can stabilize the training process before adding the residual module to the activation layer . This article sets the scale coefficient between 0.1 and 0.3.\n",
        "\n",
        "In order to prevent the occurrence of unstable training of deep residual networks, He suggested in the article that it is divided into two stages of training. The first stage is called warm-up (preheating) , that is, training the model with a very low learning first. In the second stage, a higher learning rate is used. And this article finds that if the convolution sum is very high, even a learning rate of 0.00001 cannot solve this training instability problem, and the high learning rate will also destroy the effect. But this article considers scale residuals to be more reliable than warm-up.\n",
        "\n",
        "Even if scal is not strictly necessary, it has no effect on the final accuracy, but it can stabilize the training process.\n",
        "\n",
        "![title](img/res3in.png)\n",
        "\n",
        "**Conclusion**\n",
        "\n",
        "Inception-ResNet-v1 : a network architecture combining inception module and resnet module with similar calculation cost to Inception-v3;\n",
        "\n",
        "Inception-ResNet-v2 : A more expensive but better performing network architecture.\n",
        "\n",
        "Inception-v4 : A pure inception module, without residual connections, but with performance similar to Inception-ResNet-v2.\n",
        "\n",
        "\n",
        "**A big picture of the various module structures of Inception-v4 / Inception-ResNet-v1 / v2:**\n",
        "\n",
        "- Fig3-Stem: (Inception-v4 & Inception-ResNet-v2)\n",
        "\n",
        "![title](img/res4in.png)\n",
        "\n",
        "- Fig4-Inception-A: (Inception-v4)\n",
        "\n",
        "![title](img/res5in.png)\n",
        "\n",
        "- Fig5-Inception-B: (Inception-v4)\n",
        "\n",
        "![title](img/res6in.png)\n",
        "\n",
        "- Fig6-Inception-C: (Inception-v4)\n",
        "\n",
        "![title](img/res7in.png)\n",
        "\n",
        "- Fig7-Reduction-A: (Inception-v4 & Inception-ResNet-v1 & Inception-ResNet-v2)\n",
        "\n",
        "![title](img/res8in.png)\n",
        "\n",
        "- Fig8-Reduction-B: (Inception-v4)\n",
        "\n",
        "![title](img/res9in.png)\n",
        "\n",
        "- Fig10-Inception-ResNet-A: (Inception-ResNet-v1)\n",
        "\n",
        "![title](img/res10in.png)\n",
        "\n",
        "- Fig11-Inception-ResNet-B: (Inception-ResNet-v1)\n",
        "\n",
        "![title](img/res11in.png)\n",
        "\n",
        "- Fig12-Reduction-B: (Inception-ResNet-v1)\n",
        "\n",
        "![title](img/res12in.png)\n",
        "\n",
        "- Fig13-Inception-ResNet-C: (Inception-ResNet-v1)\n",
        "\n",
        "![title](img/res13in.png)\n",
        "\n",
        "- Fig14-Stem: (Inception-ResNet-v1)\n",
        "\n",
        "![title](img/res14in.png)\n",
        "\n",
        "- Fig16-Inception-ResNet-A: (Inception-ResNet-v2)\n",
        "\n",
        "![title](img/res15in.png)\n",
        "\n",
        "- Fig17-Inception-ResNet-B: (Inception-ResNet-v2)\n",
        "\n",
        "![title](img/res16in.png)\n",
        "\n",
        "- Fig18-Reduction-B: (Inception-ResNet-v2)\n",
        "\n",
        "![title](img/res17in.png)\n",
        "\n",
        "- Fig19-Inception-ResNet-C: (Inception-ResNet-v2)\n",
        "\n",
        "![title](img/res18in.png)\n",
        "\n",
        "\n",
        "\n",
        "\n",
        "\n",
        "\n",
        "\n",
        "\n",
        "\n",
        "\n",
        "\n",
        "\n",
        "\n",
        "\n",
        "\n",
        "\n",
        "\n",
        "\n",
        "\n",
        "\n",
        "\n",
        "\n",
        "\n",
        "\n"
      ]
    },
    {
      "cell_type": "markdown",
      "metadata": {
        "id": "Hx6yIJhut1qu"
      },
      "source": [
        "## Summary\n",
        "\n",
        "* Inception v1 network, 1x1, 3x3, 5x5 conv and 3x3 pooling and stacking together, on the one hand, increase the width of the network, and on the other hand, increase the adaptability of the network to scale.\n",
        "\n",
        "\n",
        "* The network of v2 has been improved based on v1. On the one hand, the BN layer has been added to reduce the internal covariate shift (the internal neuron's data distribution has changed), so that the output of each layer is normalized to an N (0, 1) Gaussian, on the other hand, learning VGG replaces 5x5 in the inception module with two 3x3 convs, which reduces the number of parameters and speeds up the calculation.\n",
        "\n",
        "\n",
        "* One of the most important improvements in v3 is Factorization, which decomposes 7x7 into two one-dimensional convolutions (1x7, 7x1), and 3x3 is the same (1x3, 3x1). This benefit can speed up calculations (redundant calculations Capacity can be used to deepen the network), and one conv can be split into two convs, which further increases the network depth and increases the nonlinearity of the network. It is also worth noting that the network input has changed from 224x224 to 299x299, which is more refined. Designed 35x35 / 17x17 / 8x8 modules.\n",
        "\n",
        "\n",
        "* v4 studied whether the Inception module combined with the Residual Connection can be improved? It was found that the structure of ResNet can greatly speed up training and improve performance at the same time. An Inception-ResNet v2 network was obtained. At the same time, a deeper and more optimized Inception v4 model was designed to achieve performance comparable to Inception-ResNet v2"
      ]
    },
    {
      "cell_type": "markdown",
      "metadata": {
        "id": "OWhbOrNrt1qu"
      },
      "source": [
        "### Code implementation"
      ]
    },
    {
      "cell_type": "code",
      "execution_count": 1,
      "metadata": {
        "id": "jwrOAlrQt1qv"
      },
      "outputs": [],
      "source": [
        "import os\n",
        "import zipfile\n",
        "import tensorflow as tf\n",
        "from tensorflow.keras.optimizers import RMSprop\n",
        "from tensorflow.keras.preprocessing.image import ImageDataGenerator"
      ]
    },
    {
      "cell_type": "code",
      "source": [
        "from google.colab import drive\n",
        "drive.mount('/content/drive')"
      ],
      "metadata": {
        "colab": {
          "base_uri": "https://localhost:8080/"
        },
        "id": "Nh492OiLuEhd",
        "outputId": "c208e0cc-69fa-4db9-d37b-3dd80536aedf"
      },
      "execution_count": 2,
      "outputs": [
        {
          "output_type": "stream",
          "name": "stdout",
          "text": [
            "Mounted at /content/drive\n"
          ]
        }
      ]
    },
    {
      "cell_type": "code",
      "execution_count": 3,
      "metadata": {
        "colab": {
          "base_uri": "https://localhost:8080/"
        },
        "id": "NCnRvYe_t1qv",
        "outputId": "18ceb236-fec5-485a-9818-00bf4a6426cd"
      },
      "outputs": [
        {
          "output_type": "stream",
          "name": "stderr",
          "text": [
            "WARNING:absl:`lr` is deprecated in Keras optimizer, please use `learning_rate` or use the legacy optimizer, e.g.,tf.keras.optimizers.legacy.RMSprop.\n"
          ]
        },
        {
          "output_type": "stream",
          "name": "stdout",
          "text": [
            "Found 2000 images belonging to 2 classes.\n",
            "Found 1000 images belonging to 2 classes.\n"
          ]
        },
        {
          "output_type": "stream",
          "name": "stderr",
          "text": [
            "<ipython-input-3-7edbb3ba2560>:66: UserWarning: `Model.fit_generator` is deprecated and will be removed in a future version. Please use `Model.fit`, which supports generators.\n",
            "  history = model.fit_generator(\n"
          ]
        },
        {
          "output_type": "stream",
          "name": "stdout",
          "text": [
            "Epoch 1/10\n",
            "10/10 - 543s - loss: 1.1545 - acc: 0.4950 - val_loss: 0.6967 - val_acc: 0.5000 - 543s/epoch - 54s/step\n",
            "Epoch 2/10\n",
            "10/10 - 53s - loss: 0.7005 - acc: 0.5100 - val_loss: 0.6925 - val_acc: 0.5590 - 53s/epoch - 5s/step\n",
            "Epoch 3/10\n",
            "10/10 - 44s - loss: 0.6937 - acc: 0.4850 - val_loss: 0.6918 - val_acc: 0.5200 - 44s/epoch - 4s/step\n",
            "Epoch 4/10\n",
            "10/10 - 44s - loss: 0.6910 - acc: 0.5550 - val_loss: 0.7000 - val_acc: 0.5000 - 44s/epoch - 4s/step\n",
            "Epoch 5/10\n",
            "10/10 - 32s - loss: 0.6928 - acc: 0.5200 - val_loss: 0.8224 - val_acc: 0.5000 - 32s/epoch - 3s/step\n",
            "Epoch 6/10\n",
            "10/10 - 30s - loss: 0.7055 - acc: 0.5800 - val_loss: 0.6912 - val_acc: 0.5850 - 30s/epoch - 3s/step\n",
            "Epoch 7/10\n",
            "10/10 - 28s - loss: 0.6965 - acc: 0.5800 - val_loss: 0.6915 - val_acc: 0.5180 - 28s/epoch - 3s/step\n",
            "Epoch 8/10\n",
            "10/10 - 26s - loss: 0.7011 - acc: 0.5150 - val_loss: 0.6917 - val_acc: 0.5050 - 26s/epoch - 3s/step\n",
            "Epoch 9/10\n",
            "10/10 - 24s - loss: 0.6915 - acc: 0.5600 - val_loss: 0.6917 - val_acc: 0.5230 - 24s/epoch - 2s/step\n",
            "Epoch 10/10\n",
            "10/10 - 24s - loss: 0.6943 - acc: 0.4900 - val_loss: 0.6898 - val_acc: 0.5520 - 24s/epoch - 2s/step\n"
          ]
        }
      ],
      "source": [
        "base_dir = '/content/drive/MyDrive/dataset_coco/cats_and_dogs_filtered'\n",
        "train_dir = os.path.join(base_dir, 'train')\n",
        "validation_dir = os.path.join(base_dir, 'validation')\n",
        "\n",
        "# Directory with our training cat pictures\n",
        "train_cats_dir = os.path.join(train_dir, 'cats')\n",
        "\n",
        "# Directory with our training dog pictures\n",
        "train_dogs_dir = os.path.join(train_dir, 'dogs')\n",
        "\n",
        "# Directory with our validation cat pictures\n",
        "validation_cats_dir = os.path.join(validation_dir, 'cats')\n",
        "\n",
        "# Directory with our validation dog pictures\n",
        "validation_dogs_dir = os.path.join(validation_dir, 'dogs')\n",
        "\n",
        "model = tf.keras.models.Sequential([\n",
        "    tf.keras.layers.Conv2D(32, (3,3), activation='relu', input_shape=(150, 150, 3)),\n",
        "    tf.keras.layers.MaxPooling2D(2, 2),\n",
        "    tf.keras.layers.Conv2D(64, (3,3), activation='relu'),\n",
        "    tf.keras.layers.MaxPooling2D(2,2),\n",
        "    tf.keras.layers.Conv2D(128, (3,3), activation='relu'),\n",
        "    tf.keras.layers.MaxPooling2D(2,2),\n",
        "    tf.keras.layers.Conv2D(128, (3,3), activation='relu'),\n",
        "    tf.keras.layers.MaxPooling2D(2,2),\n",
        "    tf.keras.layers.Dropout(0.5),\n",
        "    tf.keras.layers.Flatten(),\n",
        "    tf.keras.layers.Dense(512, activation='relu'),\n",
        "    tf.keras.layers.Dense(1, activation='sigmoid')\n",
        "])\n",
        "\n",
        "model.compile(loss='binary_crossentropy',\n",
        "              optimizer=RMSprop(lr=1e-4),\n",
        "              metrics=['acc'])\n",
        "\n",
        "# This code has changed. Now instead of the ImageGenerator just rescaling\n",
        "# the image, we also rotate and do other operations\n",
        "# Updated to do image augmentation\n",
        "train_datagen = ImageDataGenerator(\n",
        "      rescale=1./255,\n",
        "      rotation_range=40,\n",
        "      width_shift_range=0.2,\n",
        "      height_shift_range=0.2,\n",
        "      shear_range=0.2,\n",
        "      zoom_range=0.2,\n",
        "      horizontal_flip=True,\n",
        "      fill_mode='nearest')\n",
        "\n",
        "test_datagen = ImageDataGenerator(rescale=1./255)\n",
        "\n",
        "# Flow training images in batches of 20 using train_datagen generator\n",
        "train_generator = train_datagen.flow_from_directory(\n",
        "        train_dir,  # This is the source directory for training images\n",
        "        target_size=(150, 150),  # All images will be resized to 150x150\n",
        "        batch_size=20,\n",
        "        # Since we use binary_crossentropy loss, we need binary labels\n",
        "        class_mode='binary')\n",
        "\n",
        "# Flow validation images in batches of 20 using test_datagen generator\n",
        "validation_generator = test_datagen.flow_from_directory(\n",
        "        validation_dir,\n",
        "        target_size=(150, 150),\n",
        "        batch_size=20,\n",
        "        class_mode='binary')\n",
        "\n",
        "history = model.fit_generator(\n",
        "      train_generator,\n",
        "      steps_per_epoch=10,  # 2000 images = batch_size * steps\n",
        "      epochs=10,\n",
        "      validation_data=validation_generator,\n",
        "      validation_steps=50,  # 1000 images = batch_size * steps\n",
        "      verbose=2)"
      ]
    },
    {
      "cell_type": "code",
      "execution_count": 4,
      "metadata": {
        "colab": {
          "base_uri": "https://localhost:8080/",
          "height": 887
        },
        "id": "3TtrYaRit1qw",
        "outputId": "25f32238-89cd-4068-b4e9-621e2d748f13"
      },
      "outputs": [
        {
          "output_type": "display_data",
          "data": {
            "text/plain": [
              "<Figure size 640x480 with 1 Axes>"
            ],
            "image/png": "[encoded data removed]"
          },
          "metadata": {}
        },
        {
          "output_type": "display_data",
          "data": {
            "text/plain": [
              "<Figure size 640x480 with 1 Axes>"
            ],
            "image/png": "[encoded data removed]"
          },
          "metadata": {}
        }
      ],
      "source": [
        "%matplotlib inline\n",
        "import matplotlib.pyplot as plt\n",
        "acc = history.history['acc']\n",
        "val_acc = history.history['val_acc']\n",
        "loss = history.history['loss']\n",
        "val_loss = history.history['val_loss']\n",
        "\n",
        "epochs = range(len(acc))\n",
        "\n",
        "plt.plot(epochs, acc, 'bo', label='Training accuracy')\n",
        "plt.plot(epochs, val_acc, 'b', label='Validation accuracy')\n",
        "plt.title('Training and validation accuracy')\n",
        "\n",
        "plt.figure()\n",
        "\n",
        "plt.plot(epochs, loss, 'bo', label='Training Loss')\n",
        "plt.plot(epochs, val_loss, 'b', label='Validation Loss')\n",
        "plt.title('Training and validation loss')\n",
        "plt.legend()\n",
        "\n",
        "plt.show()"
      ]
    },
    {
      "cell_type": "code",
      "execution_count": null,
      "metadata": {
        "id": "oRXqDy8ut1qw"
      },
      "outputs": [],
      "source": []
    }
  ],
  "metadata": {
    "kernelspec": {
      "display_name": "Python 3",
      "name": "python3"
    },
    "language_info": {
      "codemirror_mode": {
        "name": "ipython",
        "version": 3
      },
      "file_extension": ".py",
      "mimetype": "text/x-python",
      "name": "python",
      "nbconvert_exporter": "python",
      "pygments_lexer": "ipython3",
      "version": "3.11.5"
    },
    "colab": {
      "provenance": [],
      "gpuType": "T4"
    },
    "accelerator": "GPU"
  },
  "nbformat": 4,
  "nbformat_minor": 0
}